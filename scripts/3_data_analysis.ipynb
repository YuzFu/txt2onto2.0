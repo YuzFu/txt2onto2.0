{
 "cells": [
  {
   "cell_type": "code",
   "execution_count": null,
   "id": "1c0e2925",
   "metadata": {},
   "outputs": [],
   "source": [
    "import pandas as pd\n",
    "import os\n",
    "import json\n",
    "import matplotlib.pyplot as plt\n",
    "import plotly.graph_objects as go"
   ]
  },
  {
   "cell_type": "markdown",
   "id": "cb7825d8",
   "metadata": {},
   "source": [
    "## Concatenation"
   ]
  },
  {
   "cell_type": "code",
   "execution_count": null,
   "id": "f30767d3",
   "metadata": {},
   "outputs": [],
   "source": [
    "files = [f for f in os.listdir(\"results/cancer_mouse\") if f.endswith(\".csv\")]\n",
    "\n",
    "dfs = []\n",
    "for f in files:\n",
    "    df = pd.read_csv(os.path.join(\"results/cancer_mouse\", f))\n",
    "    df['source'] = f.replace(\"__preds.csv\", \"\")\n",
    "    dfs.append(df)\n",
    "\n",
    "all_preds = pd.concat(dfs, ignore_index=True)\n",
    "all_preds.to_csv(\n",
    "    os.path.join(\"results/cancer_mouse\", \"all_cancer_predictions.csv\"),\n",
    "    index=False\n",
    ")\n",
    "print(\"Saved all_cancer_predictions.csv\")"
   ]
  },
  {
   "cell_type": "markdown",
   "id": "3a104e9b",
   "metadata": {},
   "source": [
    "## Analysis"
   ]
  },
  {
   "cell_type": "code",
   "execution_count": null,
   "id": "5dd56c6a",
   "metadata": {},
   "outputs": [],
   "source": [
    "# Load and merge\n",
    "preds = pd.read_csv(\"results/cancer_mouse/all_cancer_predictions.csv\")\n",
    "stats = pd.read_csv(\"data/disease_model_stats.csv\")\n",
    "with open(\"data/cancer_children.json\") as f:\n",
    "    children = json.load(f)\n",
    "\n",
    "preds = preds[preds['related_words'].notna()]\n",
    "stats['ID_'] = stats['ID'].str.replace(\":\", \"_\")\n",
    "merged = (\n",
    "    pd.merge(preds, stats[['ID_', 'name']],\n",
    "             left_on='source', right_on='ID_', how='left')\n",
    "    .drop(columns=['ID_'])\n",
    ")\n",
    "\n",
    "# Subset for parent + children of MONDO_0004992\n",
    "parent = \"MONDO_0004992\"\n",
    "terms = children['_embedded']['terms']\n",
    "child_ids = [t['short_form'] for t in terms if 'cancer' in t['label']]\n",
    "models = child_ids + [parent]\n",
    "sub = merged[merged['source'].isin(models)]\n",
    "\n",
    "# Counts per subtype\n",
    "counts = sub.groupby('name').size().reset_index(name='count').sort_values('count', ascending=False)\n"
   ]
  },
  {
   "cell_type": "markdown",
   "id": "8eb23875",
   "metadata": {},
   "source": [
    "### Pie chart"
   ]
  },
  {
   "cell_type": "code",
   "execution_count": null,
   "id": "aff25452",
   "metadata": {},
   "outputs": [],
   "source": [
    "plt.figure()\n",
    "circle = plt.Circle((0,0), 0.7, color='white')\n",
    "plt.pie(counts['count'], labels=counts['name'])\n",
    "plt.gca().add_artist(circle)\n",
    "plt.title(\"Cancer subtype distribution\")\n",
    "plt.show()"
   ]
  },
  {
   "cell_type": "markdown",
   "id": "9cff8c00",
   "metadata": {},
   "source": [
    "### Sankey Diagram"
   ]
  },
  {
   "cell_type": "code",
   "execution_count": null,
   "id": "bd0f83aa",
   "metadata": {},
   "outputs": [],
   "source": [
    "labels = [\"cancer\"] + counts['name'].tolist()\n",
    "source_idxs = [0] * len(counts)\n",
    "target_idxs = list(range(1, len(counts)+1))\n",
    "values = counts['count'].tolist()\n",
    "\n",
    "fig = go.Figure(data=[go.Sankey(\n",
    "    node=dict(pad=15, thickness=20,\n",
    "              line=dict(color=\"black\", width=0.5),\n",
    "              label=labels),\n",
    "    link=dict(source=source_idxs, target=target_idxs, value=values)\n",
    ")])\n",
    "fig.update_layout(title_text=\"GSEs Predicted as Cancer Subtypes\", font_size=12)\n",
    "fig.show()"
   ]
  }
 ],
 "metadata": {
  "language_info": {
   "name": "python"
  }
 },
 "nbformat": 4,
 "nbformat_minor": 5
}
