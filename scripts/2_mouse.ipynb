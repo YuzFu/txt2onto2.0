{
 "cells": [
  {
   "cell_type": "code",
   "execution_count": null,
   "id": "407f3420",
   "metadata": {},
   "outputs": [],
   "source": [
    "import pandas as pd\n",
    "import json\n",
    "import subprocess"
   ]
  },
  {
   "cell_type": "markdown",
   "id": "7ea9aebc",
   "metadata": {},
   "source": [
    "## Model Selection"
   ]
  },
  {
   "cell_type": "code",
   "execution_count": null,
   "id": "03dd9f60",
   "metadata": {},
   "outputs": [],
   "source": [
    "# Extract cancer models from disease model stats\n",
    "stats = pd.read_csv(\"../data/disease_model_stats.csv\")\n",
    "cancers = stats[stats['name'].str.contains(\"cancer\")]\n",
    "cancers = cancers['ID'].str.replace(\":\", \"_\").tolist()"
   ]
  },
  {
   "cell_type": "markdown",
   "id": "76976e47",
   "metadata": {},
   "source": [
    "## Preparation"
   ]
  },
  {
   "cell_type": "code",
   "execution_count": null,
   "id": "7e72f02c",
   "metadata": {},
   "outputs": [],
   "source": [
    "# 1. filter GREIN_data for mouse GSE IDs\n",
    "grein_df = pd.read_csv(\"../demo/GREIN_data.csv\")\n",
    "mouse_df = grein_df[grein_df['Species'] == \"Mus musculus\"]\n",
    "mouse_ids = mouse_df['GEO accession']\n",
    "mouse_ids.to_csv(\"../demo/metadata_mouse_ID.tsv\", sep=\"\\t\", index=False, header=False)\n",
    "\n",
    "# 2. Extract titles from metadata_mouse\n",
    "with open(\"../demo/metadata_mouse.json\") as f:\n",
    "    metadata = json.load(f)\n",
    "\n",
    "mouse_titles = [metadata[gse][\"Title\"] for gse in mouse_ids if gse in metadata]\n",
    "pd.DataFrame(mouse_titles).to_csv(\"../demo/metadata_mouse_title.tsv\", sep=\"\\t\", index=False, header=False)"
   ]
  },
  {
   "cell_type": "markdown",
   "id": "19973989",
   "metadata": {},
   "source": [
    "## Prediction"
   ]
  },
  {
   "cell_type": "code",
   "execution_count": null,
   "id": "c134d9ee",
   "metadata": {},
   "outputs": [],
   "source": [
    "# Preprocess\n",
    "subprocess.run([\n",
    "    \"python\", \"../src/preprocess.py\",\n",
    "    \"-input\", \"../demo/metadata_mouse_title.tsv\",\n",
    "    \"-out\", \"../demo/metadata_mouse_title_processed.tsv\"\n",
    "])\n",
    "\n",
    "# Generate embeddings\n",
    "subprocess.run([\n",
    "    \"python\", \"../src/embedding_lookup_table.py\",\n",
    "    \"-input\", \"../demo/metadata_mouse_title_processed.tsv\",\n",
    "    \"-out\", \"../demo/metadata_mouse_title_embedding.npz\"\n",
    "])\n",
    "\n",
    "# Predict\n",
    "for cancer_id in cancers:\n",
    "    subprocess.run([\n",
    "        \"python\", \"../src/predict.py\",\n",
    "        \"-input\", \"../demo/metadata_mouse_title_processed.tsv\",\n",
    "        \"-id\", \"../demo/metadata_mouse_ID.tsv\",\n",
    "        \"-input_embed\", \"../demo/metadata_mouse_title_embedding.npz\",\n",
    "        \"-train_embed\", \"../data/disease_desc_embedding.npz\",\n",
    "        \"-model\", f\"../bins/{cancer_id}__model.pkl\",\n",
    "        \"-out\", \"../results/cancer_mouse/\"\n",
    "    ])"
   ]
  }
 ],
 "metadata": {
  "language_info": {
   "name": "python"
  }
 },
 "nbformat": 4,
 "nbformat_minor": 5
}
