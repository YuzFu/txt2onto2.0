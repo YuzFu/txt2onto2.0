{
 "cells": [
  {
   "cell_type": "code",
   "execution_count": 1,
   "id": "407f3420",
   "metadata": {},
   "outputs": [],
   "source": [
    "import pandas as pd\n",
    "import json\n",
    "import subprocess"
   ]
  },
  {
   "cell_type": "markdown",
   "id": "7ea9aebc",
   "metadata": {},
   "source": [
    "## Model Selection"
   ]
  },
  {
   "cell_type": "code",
   "execution_count": 2,
   "id": "03dd9f60",
   "metadata": {},
   "outputs": [],
   "source": [
    "# Extract cancer models from disease model stats\n",
    "stats = pd.read_csv(\"../data/disease_model_stats.csv\")\n",
    "cancers = stats[stats['name'].str.contains(\"cancer\")]\n",
    "cancers = cancers['ID'].str.replace(\":\", \"_\")\n",
    "\n",
    "cancers.to_csv(\"../demo/cancer_model_ids.txt\", index=False, header=False)"
   ]
  },
  {
   "cell_type": "markdown",
   "id": "76976e47",
   "metadata": {},
   "source": [
    "## Preparation"
   ]
  },
  {
   "cell_type": "code",
   "execution_count": 3,
   "id": "7e72f02c",
   "metadata": {},
   "outputs": [],
   "source": [
    "# 1. filter GREIN_data for mouse GSE IDs\n",
    "grein_df = pd.read_csv(\"../demo/GREIN_data.csv\")\n",
    "mouse_df = grein_df[grein_df['Species'] == \"Mus musculus\"]\n",
    "mouse_ids = mouse_df['GEO accession']\n",
    "mouse_ids.to_csv(\"../demo/metadata_mouse_ID.tsv\", sep=\"\\t\", index=False, header=False)\n",
    "\n",
    "# 2. Extract titles from metadata_mouse\n",
    "with open(\"../demo/metadata_mouse.json\") as f:\n",
    "    metadata = json.load(f)\n",
    "\n",
    "mouse_titles = [metadata[gse][\"Title\"] for gse in mouse_ids if gse in metadata]\n",
    "pd.DataFrame(mouse_titles).to_csv(\"../demo/metadata_mouse_title.tsv\", sep=\"\\t\", index=False, header=False)"
   ]
  },
  {
   "cell_type": "markdown",
   "id": "19973989",
   "metadata": {},
   "source": [
    "## Prediction"
   ]
  },
  {
   "cell_type": "code",
   "execution_count": 4,
   "id": "c134d9ee",
   "metadata": {},
   "outputs": [
    {
     "name": "stderr",
     "output_type": "stream",
     "text": [
      "preprocessing text: 100%|██████████| 4066/4066 [00:00<00:00, 8148.37it/s]\n"
     ]
    },
    {
     "name": "stdout",
     "output_type": "stream",
     "text": [
      "get unique words\n",
      "there are 7888 unique words in the given descriptions\n",
      "generate embedding by cpu\n"
     ]
    },
    {
     "name": "stderr",
     "output_type": "stream",
     "text": [
      "generate embeddings using cpu: 100%|██████████| 7888/7888 [02:58<00:00, 44.16it/s]\n"
     ]
    },
    {
     "name": "stdout",
     "output_type": "stream",
     "text": [
      "saving output...\n"
     ]
    },
    {
     "name": "stderr",
     "output_type": "stream",
     "text": [
      "/home/rfu_smith_edu/.local/lib/python3.13/site-packages/sklearn/base.py:440: InconsistentVersionWarning: Trying to unpickle estimator LogisticRegression from version 1.2.1 when using version 1.7.0. This might lead to breaking code or invalid results. Use at your own risk. For more info please refer to:\n",
      "https://scikit-learn.org/stable/model_persistence.html#security-maintainability-limitations\n",
      "  warnings.warn(\n"
     ]
    },
    {
     "name": "stdout",
     "output_type": "stream",
     "text": [
      "loading data\n",
      "took 1.36 s to load data\n",
      "predicting labels\n",
      "took 4.56 s to predict\n",
      "retrieving predictive words\n",
      "took 0.18 s to retrieve predictive words\n",
      "saving output\n",
      "took 0.10 min to load, predict, retrieve predictive words and save MONDO_0000376 for 4066 instances\n"
     ]
    },
    {
     "name": "stderr",
     "output_type": "stream",
     "text": [
      "/home/rfu_smith_edu/.local/lib/python3.13/site-packages/sklearn/base.py:440: InconsistentVersionWarning: Trying to unpickle estimator LogisticRegression from version 1.2.1 when using version 1.7.0. This might lead to breaking code or invalid results. Use at your own risk. For more info please refer to:\n",
      "https://scikit-learn.org/stable/model_persistence.html#security-maintainability-limitations\n",
      "  warnings.warn(\n"
     ]
    },
    {
     "name": "stdout",
     "output_type": "stream",
     "text": [
      "loading data\n",
      "took 1.13 s to load data\n",
      "predicting labels\n",
      "took 4.33 s to predict\n",
      "retrieving predictive words\n",
      "took 0.13 s to retrieve predictive words\n",
      "saving output\n",
      "took 0.09 min to load, predict, retrieve predictive words and save MONDO_0000548 for 4066 instances\n"
     ]
    },
    {
     "name": "stderr",
     "output_type": "stream",
     "text": [
      "/home/rfu_smith_edu/.local/lib/python3.13/site-packages/sklearn/base.py:440: InconsistentVersionWarning: Trying to unpickle estimator LogisticRegression from version 1.2.1 when using version 1.7.0. This might lead to breaking code or invalid results. Use at your own risk. For more info please refer to:\n",
      "https://scikit-learn.org/stable/model_persistence.html#security-maintainability-limitations\n",
      "  warnings.warn(\n"
     ]
    },
    {
     "name": "stdout",
     "output_type": "stream",
     "text": [
      "loading data\n",
      "took 1.27 s to load data\n",
      "predicting labels\n",
      "took 4.44 s to predict\n",
      "retrieving predictive words\n",
      "took 0.13 s to retrieve predictive words\n",
      "saving output\n",
      "took 0.10 min to load, predict, retrieve predictive words and save MONDO_0000612 for 4066 instances\n"
     ]
    },
    {
     "name": "stderr",
     "output_type": "stream",
     "text": [
      "/home/rfu_smith_edu/.local/lib/python3.13/site-packages/sklearn/base.py:440: InconsistentVersionWarning: Trying to unpickle estimator LogisticRegression from version 1.2.1 when using version 1.7.0. This might lead to breaking code or invalid results. Use at your own risk. For more info please refer to:\n",
      "https://scikit-learn.org/stable/model_persistence.html#security-maintainability-limitations\n",
      "  warnings.warn(\n"
     ]
    },
    {
     "name": "stdout",
     "output_type": "stream",
     "text": [
      "loading data\n",
      "took 1.07 s to load data\n",
      "predicting labels\n",
      "took 4.39 s to predict\n",
      "retrieving predictive words\n",
      "took 0.13 s to retrieve predictive words\n",
      "saving output\n",
      "took 0.09 min to load, predict, retrieve predictive words and save MONDO_0000615 for 4066 instances\n"
     ]
    },
    {
     "name": "stderr",
     "output_type": "stream",
     "text": [
      "/home/rfu_smith_edu/.local/lib/python3.13/site-packages/sklearn/base.py:440: InconsistentVersionWarning: Trying to unpickle estimator LogisticRegression from version 1.2.1 when using version 1.7.0. This might lead to breaking code or invalid results. Use at your own risk. For more info please refer to:\n",
      "https://scikit-learn.org/stable/model_persistence.html#security-maintainability-limitations\n",
      "  warnings.warn(\n"
     ]
    },
    {
     "name": "stdout",
     "output_type": "stream",
     "text": [
      "loading data\n",
      "took 0.68 s to load data\n",
      "predicting labels\n",
      "took 4.37 s to predict\n",
      "retrieving predictive words\n",
      "took 0.14 s to retrieve predictive words\n",
      "saving output\n",
      "took 0.09 min to load, predict, retrieve predictive words and save MONDO_0000616 for 4066 instances\n"
     ]
    },
    {
     "name": "stderr",
     "output_type": "stream",
     "text": [
      "/home/rfu_smith_edu/.local/lib/python3.13/site-packages/sklearn/base.py:440: InconsistentVersionWarning: Trying to unpickle estimator LogisticRegression from version 1.2.1 when using version 1.7.0. This might lead to breaking code or invalid results. Use at your own risk. For more info please refer to:\n",
      "https://scikit-learn.org/stable/model_persistence.html#security-maintainability-limitations\n",
      "  warnings.warn(\n"
     ]
    },
    {
     "name": "stdout",
     "output_type": "stream",
     "text": [
      "loading data\n",
      "took 1.07 s to load data\n",
      "predicting labels\n",
      "took 4.37 s to predict\n",
      "retrieving predictive words\n",
      "took 0.14 s to retrieve predictive words\n",
      "saving output\n",
      "took 0.09 min to load, predict, retrieve predictive words and save MONDO_0000618 for 4066 instances\n"
     ]
    },
    {
     "name": "stderr",
     "output_type": "stream",
     "text": [
      "/home/rfu_smith_edu/.local/lib/python3.13/site-packages/sklearn/base.py:440: InconsistentVersionWarning: Trying to unpickle estimator LogisticRegression from version 1.2.1 when using version 1.7.0. This might lead to breaking code or invalid results. Use at your own risk. For more info please refer to:\n",
      "https://scikit-learn.org/stable/model_persistence.html#security-maintainability-limitations\n",
      "  warnings.warn(\n"
     ]
    },
    {
     "name": "stdout",
     "output_type": "stream",
     "text": [
      "loading data\n",
      "took 0.68 s to load data\n",
      "predicting labels\n",
      "took 4.36 s to predict\n",
      "retrieving predictive words\n",
      "took 0.26 s to retrieve predictive words\n",
      "saving output\n",
      "took 0.09 min to load, predict, retrieve predictive words and save MONDO_0000621 for 4066 instances\n"
     ]
    },
    {
     "name": "stderr",
     "output_type": "stream",
     "text": [
      "/home/rfu_smith_edu/.local/lib/python3.13/site-packages/sklearn/base.py:440: InconsistentVersionWarning: Trying to unpickle estimator LogisticRegression from version 1.2.1 when using version 1.7.0. This might lead to breaking code or invalid results. Use at your own risk. For more info please refer to:\n",
      "https://scikit-learn.org/stable/model_persistence.html#security-maintainability-limitations\n",
      "  warnings.warn(\n"
     ]
    },
    {
     "name": "stdout",
     "output_type": "stream",
     "text": [
      "loading data\n",
      "took 0.68 s to load data\n",
      "predicting labels\n",
      "took 4.50 s to predict\n",
      "retrieving predictive words\n",
      "took 0.22 s to retrieve predictive words\n",
      "saving output\n",
      "took 0.09 min to load, predict, retrieve predictive words and save MONDO_0000637 for 4066 instances\n"
     ]
    },
    {
     "name": "stderr",
     "output_type": "stream",
     "text": [
      "/home/rfu_smith_edu/.local/lib/python3.13/site-packages/sklearn/base.py:440: InconsistentVersionWarning: Trying to unpickle estimator LogisticRegression from version 1.2.1 when using version 1.7.0. This might lead to breaking code or invalid results. Use at your own risk. For more info please refer to:\n",
      "https://scikit-learn.org/stable/model_persistence.html#security-maintainability-limitations\n",
      "  warnings.warn(\n"
     ]
    },
    {
     "name": "stdout",
     "output_type": "stream",
     "text": [
      "loading data\n",
      "took 1.26 s to load data\n",
      "predicting labels\n",
      "took 4.48 s to predict\n",
      "retrieving predictive words\n",
      "took 0.13 s to retrieve predictive words\n",
      "saving output\n",
      "took 0.10 min to load, predict, retrieve predictive words and save MONDO_0000649 for 4066 instances\n"
     ]
    },
    {
     "name": "stderr",
     "output_type": "stream",
     "text": [
      "/home/rfu_smith_edu/.local/lib/python3.13/site-packages/sklearn/base.py:440: InconsistentVersionWarning: Trying to unpickle estimator LogisticRegression from version 1.2.1 when using version 1.7.0. This might lead to breaking code or invalid results. Use at your own risk. For more info please refer to:\n",
      "https://scikit-learn.org/stable/model_persistence.html#security-maintainability-limitations\n",
      "  warnings.warn(\n"
     ]
    },
    {
     "name": "stdout",
     "output_type": "stream",
     "text": [
      "loading data\n",
      "took 1.28 s to load data\n",
      "predicting labels\n",
      "took 4.49 s to predict\n",
      "retrieving predictive words\n",
      "took 0.15 s to retrieve predictive words\n",
      "saving output\n",
      "took 0.10 min to load, predict, retrieve predictive words and save MONDO_0000653 for 4066 instances\n"
     ]
    },
    {
     "name": "stderr",
     "output_type": "stream",
     "text": [
      "/home/rfu_smith_edu/.local/lib/python3.13/site-packages/sklearn/base.py:440: InconsistentVersionWarning: Trying to unpickle estimator LogisticRegression from version 1.2.1 when using version 1.7.0. This might lead to breaking code or invalid results. Use at your own risk. For more info please refer to:\n",
      "https://scikit-learn.org/stable/model_persistence.html#security-maintainability-limitations\n",
      "  warnings.warn(\n"
     ]
    },
    {
     "name": "stdout",
     "output_type": "stream",
     "text": [
      "loading data\n",
      "took 0.68 s to load data\n",
      "predicting labels\n",
      "took 4.33 s to predict\n",
      "retrieving predictive words\n",
      "took 0.15 s to retrieve predictive words\n",
      "saving output\n",
      "took 0.09 min to load, predict, retrieve predictive words and save MONDO_0001056 for 4066 instances\n"
     ]
    },
    {
     "name": "stderr",
     "output_type": "stream",
     "text": [
      "/home/rfu_smith_edu/.local/lib/python3.13/site-packages/sklearn/base.py:440: InconsistentVersionWarning: Trying to unpickle estimator LogisticRegression from version 1.2.1 when using version 1.7.0. This might lead to breaking code or invalid results. Use at your own risk. For more info please refer to:\n",
      "https://scikit-learn.org/stable/model_persistence.html#security-maintainability-limitations\n",
      "  warnings.warn(\n"
     ]
    },
    {
     "name": "stdout",
     "output_type": "stream",
     "text": [
      "loading data\n",
      "took 1.14 s to load data\n",
      "predicting labels\n",
      "took 4.63 s to predict\n",
      "retrieving predictive words\n",
      "took 0.13 s to retrieve predictive words\n",
      "saving output\n",
      "took 0.10 min to load, predict, retrieve predictive words and save MONDO_0001187 for 4066 instances\n"
     ]
    },
    {
     "name": "stderr",
     "output_type": "stream",
     "text": [
      "/home/rfu_smith_edu/.local/lib/python3.13/site-packages/sklearn/base.py:440: InconsistentVersionWarning: Trying to unpickle estimator LogisticRegression from version 1.2.1 when using version 1.7.0. This might lead to breaking code or invalid results. Use at your own risk. For more info please refer to:\n",
      "https://scikit-learn.org/stable/model_persistence.html#security-maintainability-limitations\n",
      "  warnings.warn(\n"
     ]
    },
    {
     "name": "stdout",
     "output_type": "stream",
     "text": [
      "loading data\n",
      "took 1.09 s to load data\n",
      "predicting labels\n",
      "took 4.37 s to predict\n",
      "retrieving predictive words\n",
      "took 0.15 s to retrieve predictive words\n",
      "saving output\n",
      "took 0.09 min to load, predict, retrieve predictive words and save MONDO_0001416 for 4066 instances\n"
     ]
    },
    {
     "name": "stderr",
     "output_type": "stream",
     "text": [
      "/home/rfu_smith_edu/.local/lib/python3.13/site-packages/sklearn/base.py:440: InconsistentVersionWarning: Trying to unpickle estimator LogisticRegression from version 1.2.1 when using version 1.7.0. This might lead to breaking code or invalid results. Use at your own risk. For more info please refer to:\n",
      "https://scikit-learn.org/stable/model_persistence.html#security-maintainability-limitations\n",
      "  warnings.warn(\n"
     ]
    },
    {
     "name": "stdout",
     "output_type": "stream",
     "text": [
      "loading data\n",
      "took 0.69 s to load data\n",
      "predicting labels\n",
      "took 4.27 s to predict\n",
      "retrieving predictive words\n",
      "took 0.13 s to retrieve predictive words\n",
      "saving output\n",
      "took 0.09 min to load, predict, retrieve predictive words and save MONDO_0001487 for 4066 instances\n"
     ]
    },
    {
     "name": "stderr",
     "output_type": "stream",
     "text": [
      "/home/rfu_smith_edu/.local/lib/python3.13/site-packages/sklearn/base.py:440: InconsistentVersionWarning: Trying to unpickle estimator LogisticRegression from version 1.2.1 when using version 1.7.0. This might lead to breaking code or invalid results. Use at your own risk. For more info please refer to:\n",
      "https://scikit-learn.org/stable/model_persistence.html#security-maintainability-limitations\n",
      "  warnings.warn(\n"
     ]
    },
    {
     "name": "stdout",
     "output_type": "stream",
     "text": [
      "loading data\n",
      "took 1.00 s to load data\n",
      "predicting labels\n",
      "took 4.32 s to predict\n",
      "retrieving predictive words\n",
      "took 0.14 s to retrieve predictive words\n",
      "saving output\n",
      "took 0.09 min to load, predict, retrieve predictive words and save MONDO_0001657 for 4066 instances\n"
     ]
    },
    {
     "name": "stderr",
     "output_type": "stream",
     "text": [
      "/home/rfu_smith_edu/.local/lib/python3.13/site-packages/sklearn/base.py:440: InconsistentVersionWarning: Trying to unpickle estimator LogisticRegression from version 1.2.1 when using version 1.7.0. This might lead to breaking code or invalid results. Use at your own risk. For more info please refer to:\n",
      "https://scikit-learn.org/stable/model_persistence.html#security-maintainability-limitations\n",
      "  warnings.warn(\n"
     ]
    },
    {
     "name": "stdout",
     "output_type": "stream",
     "text": [
      "loading data\n",
      "took 1.28 s to load data\n",
      "predicting labels\n",
      "took 4.34 s to predict\n",
      "retrieving predictive words\n",
      "took 0.13 s to retrieve predictive words\n",
      "saving output\n",
      "took 0.10 min to load, predict, retrieve predictive words and save MONDO_0002071 for 4066 instances\n"
     ]
    },
    {
     "name": "stderr",
     "output_type": "stream",
     "text": [
      "/home/rfu_smith_edu/.local/lib/python3.13/site-packages/sklearn/base.py:440: InconsistentVersionWarning: Trying to unpickle estimator LogisticRegression from version 1.2.1 when using version 1.7.0. This might lead to breaking code or invalid results. Use at your own risk. For more info please refer to:\n",
      "https://scikit-learn.org/stable/model_persistence.html#security-maintainability-limitations\n",
      "  warnings.warn(\n"
     ]
    },
    {
     "name": "stdout",
     "output_type": "stream",
     "text": [
      "loading data\n",
      "took 0.68 s to load data\n",
      "predicting labels\n",
      "took 4.24 s to predict\n",
      "retrieving predictive words\n",
      "took 0.13 s to retrieve predictive words\n",
      "saving output\n",
      "took 0.08 min to load, predict, retrieve predictive words and save MONDO_0002095 for 4066 instances\n"
     ]
    },
    {
     "name": "stderr",
     "output_type": "stream",
     "text": [
      "/home/rfu_smith_edu/.local/lib/python3.13/site-packages/sklearn/base.py:440: InconsistentVersionWarning: Trying to unpickle estimator LogisticRegression from version 1.2.1 when using version 1.7.0. This might lead to breaking code or invalid results. Use at your own risk. For more info please refer to:\n",
      "https://scikit-learn.org/stable/model_persistence.html#security-maintainability-limitations\n",
      "  warnings.warn(\n"
     ]
    },
    {
     "name": "stdout",
     "output_type": "stream",
     "text": [
      "loading data\n",
      "took 0.99 s to load data\n",
      "predicting labels\n",
      "took 4.34 s to predict\n",
      "retrieving predictive words\n",
      "took 0.13 s to retrieve predictive words\n",
      "saving output\n",
      "took 0.09 min to load, predict, retrieve predictive words and save MONDO_0002100 for 4066 instances\n"
     ]
    },
    {
     "name": "stderr",
     "output_type": "stream",
     "text": [
      "/home/rfu_smith_edu/.local/lib/python3.13/site-packages/sklearn/base.py:440: InconsistentVersionWarning: Trying to unpickle estimator LogisticRegression from version 1.2.1 when using version 1.7.0. This might lead to breaking code or invalid results. Use at your own risk. For more info please refer to:\n",
      "https://scikit-learn.org/stable/model_persistence.html#security-maintainability-limitations\n",
      "  warnings.warn(\n"
     ]
    },
    {
     "name": "stdout",
     "output_type": "stream",
     "text": [
      "loading data\n",
      "took 1.05 s to load data\n",
      "predicting labels\n",
      "took 4.27 s to predict\n",
      "retrieving predictive words\n",
      "took 0.14 s to retrieve predictive words\n",
      "saving output\n",
      "took 0.09 min to load, predict, retrieve predictive words and save MONDO_0002108 for 4066 instances\n"
     ]
    },
    {
     "name": "stderr",
     "output_type": "stream",
     "text": [
      "/home/rfu_smith_edu/.local/lib/python3.13/site-packages/sklearn/base.py:440: InconsistentVersionWarning: Trying to unpickle estimator LogisticRegression from version 1.2.1 when using version 1.7.0. This might lead to breaking code or invalid results. Use at your own risk. For more info please refer to:\n",
      "https://scikit-learn.org/stable/model_persistence.html#security-maintainability-limitations\n",
      "  warnings.warn(\n"
     ]
    },
    {
     "name": "stdout",
     "output_type": "stream",
     "text": [
      "loading data\n",
      "took 1.05 s to load data\n",
      "predicting labels\n",
      "took 4.33 s to predict\n",
      "retrieving predictive words\n",
      "took 0.22 s to retrieve predictive words\n",
      "saving output\n",
      "took 0.09 min to load, predict, retrieve predictive words and save MONDO_0002129 for 4066 instances\n"
     ]
    },
    {
     "name": "stderr",
     "output_type": "stream",
     "text": [
      "/home/rfu_smith_edu/.local/lib/python3.13/site-packages/sklearn/base.py:440: InconsistentVersionWarning: Trying to unpickle estimator LogisticRegression from version 1.2.1 when using version 1.7.0. This might lead to breaking code or invalid results. Use at your own risk. For more info please refer to:\n",
      "https://scikit-learn.org/stable/model_persistence.html#security-maintainability-limitations\n",
      "  warnings.warn(\n"
     ]
    },
    {
     "name": "stdout",
     "output_type": "stream",
     "text": [
      "loading data\n",
      "took 1.30 s to load data\n",
      "predicting labels\n",
      "took 4.55 s to predict\n",
      "retrieving predictive words\n",
      "took 0.16 s to retrieve predictive words\n",
      "saving output\n",
      "took 0.10 min to load, predict, retrieve predictive words and save MONDO_0002149 for 4066 instances\n"
     ]
    },
    {
     "name": "stderr",
     "output_type": "stream",
     "text": [
      "/home/rfu_smith_edu/.local/lib/python3.13/site-packages/sklearn/base.py:440: InconsistentVersionWarning: Trying to unpickle estimator LogisticRegression from version 1.2.1 when using version 1.7.0. This might lead to breaking code or invalid results. Use at your own risk. For more info please refer to:\n",
      "https://scikit-learn.org/stable/model_persistence.html#security-maintainability-limitations\n",
      "  warnings.warn(\n"
     ]
    },
    {
     "name": "stdout",
     "output_type": "stream",
     "text": [
      "loading data\n",
      "took 0.69 s to load data\n",
      "predicting labels\n",
      "took 4.35 s to predict\n",
      "retrieving predictive words\n",
      "took 0.13 s to retrieve predictive words\n",
      "saving output\n",
      "took 0.09 min to load, predict, retrieve predictive words and save MONDO_0002236 for 4066 instances\n"
     ]
    },
    {
     "name": "stderr",
     "output_type": "stream",
     "text": [
      "/home/rfu_smith_edu/.local/lib/python3.13/site-packages/sklearn/base.py:440: InconsistentVersionWarning: Trying to unpickle estimator LogisticRegression from version 1.2.1 when using version 1.7.0. This might lead to breaking code or invalid results. Use at your own risk. For more info please refer to:\n",
      "https://scikit-learn.org/stable/model_persistence.html#security-maintainability-limitations\n",
      "  warnings.warn(\n"
     ]
    },
    {
     "name": "stdout",
     "output_type": "stream",
     "text": [
      "loading data\n",
      "took 0.68 s to load data\n",
      "predicting labels\n",
      "took 4.27 s to predict\n",
      "retrieving predictive words\n",
      "took 0.13 s to retrieve predictive words\n",
      "saving output\n",
      "took 0.09 min to load, predict, retrieve predictive words and save MONDO_0002352 for 4066 instances\n"
     ]
    },
    {
     "name": "stderr",
     "output_type": "stream",
     "text": [
      "/home/rfu_smith_edu/.local/lib/python3.13/site-packages/sklearn/base.py:440: InconsistentVersionWarning: Trying to unpickle estimator LogisticRegression from version 1.2.1 when using version 1.7.0. This might lead to breaking code or invalid results. Use at your own risk. For more info please refer to:\n",
      "https://scikit-learn.org/stable/model_persistence.html#security-maintainability-limitations\n",
      "  warnings.warn(\n"
     ]
    },
    {
     "name": "stdout",
     "output_type": "stream",
     "text": [
      "loading data\n",
      "took 0.68 s to load data\n",
      "predicting labels\n",
      "took 4.21 s to predict\n",
      "retrieving predictive words\n",
      "took 0.16 s to retrieve predictive words\n",
      "saving output\n",
      "took 0.08 min to load, predict, retrieve predictive words and save MONDO_0002367 for 4066 instances\n"
     ]
    },
    {
     "name": "stderr",
     "output_type": "stream",
     "text": [
      "/home/rfu_smith_edu/.local/lib/python3.13/site-packages/sklearn/base.py:440: InconsistentVersionWarning: Trying to unpickle estimator LogisticRegression from version 1.2.1 when using version 1.7.0. This might lead to breaking code or invalid results. Use at your own risk. For more info please refer to:\n",
      "https://scikit-learn.org/stable/model_persistence.html#security-maintainability-limitations\n",
      "  warnings.warn(\n"
     ]
    },
    {
     "name": "stdout",
     "output_type": "stream",
     "text": [
      "loading data\n",
      "took 0.68 s to load data\n",
      "predicting labels\n",
      "took 4.18 s to predict\n",
      "retrieving predictive words\n",
      "took 0.26 s to retrieve predictive words\n",
      "saving output\n",
      "took 0.09 min to load, predict, retrieve predictive words and save MONDO_0002516 for 4066 instances\n"
     ]
    },
    {
     "name": "stderr",
     "output_type": "stream",
     "text": [
      "/home/rfu_smith_edu/.local/lib/python3.13/site-packages/sklearn/base.py:440: InconsistentVersionWarning: Trying to unpickle estimator LogisticRegression from version 1.2.1 when using version 1.7.0. This might lead to breaking code or invalid results. Use at your own risk. For more info please refer to:\n",
      "https://scikit-learn.org/stable/model_persistence.html#security-maintainability-limitations\n",
      "  warnings.warn(\n"
     ]
    },
    {
     "name": "stdout",
     "output_type": "stream",
     "text": [
      "loading data\n",
      "took 0.68 s to load data\n",
      "predicting labels\n",
      "took 4.35 s to predict\n",
      "retrieving predictive words\n",
      "took 0.13 s to retrieve predictive words\n",
      "saving output\n",
      "took 0.09 min to load, predict, retrieve predictive words and save MONDO_0002659 for 4066 instances\n"
     ]
    },
    {
     "name": "stderr",
     "output_type": "stream",
     "text": [
      "/home/rfu_smith_edu/.local/lib/python3.13/site-packages/sklearn/base.py:440: InconsistentVersionWarning: Trying to unpickle estimator LogisticRegression from version 1.2.1 when using version 1.7.0. This might lead to breaking code or invalid results. Use at your own risk. For more info please refer to:\n",
      "https://scikit-learn.org/stable/model_persistence.html#security-maintainability-limitations\n",
      "  warnings.warn(\n"
     ]
    },
    {
     "name": "stdout",
     "output_type": "stream",
     "text": [
      "loading data\n",
      "took 0.68 s to load data\n",
      "predicting labels\n",
      "took 4.36 s to predict\n",
      "retrieving predictive words\n",
      "took 0.21 s to retrieve predictive words\n",
      "saving output\n",
      "took 0.09 min to load, predict, retrieve predictive words and save MONDO_0002691 for 4066 instances\n"
     ]
    },
    {
     "name": "stderr",
     "output_type": "stream",
     "text": [
      "/home/rfu_smith_edu/.local/lib/python3.13/site-packages/sklearn/base.py:440: InconsistentVersionWarning: Trying to unpickle estimator LogisticRegression from version 1.2.1 when using version 1.7.0. This might lead to breaking code or invalid results. Use at your own risk. For more info please refer to:\n",
      "https://scikit-learn.org/stable/model_persistence.html#security-maintainability-limitations\n",
      "  warnings.warn(\n"
     ]
    },
    {
     "name": "stdout",
     "output_type": "stream",
     "text": [
      "loading data\n",
      "took 1.30 s to load data\n",
      "predicting labels\n",
      "took 4.37 s to predict\n",
      "retrieving predictive words\n",
      "took 0.19 s to retrieve predictive words\n",
      "saving output\n",
      "took 0.10 min to load, predict, retrieve predictive words and save MONDO_0002714 for 4066 instances\n"
     ]
    },
    {
     "name": "stderr",
     "output_type": "stream",
     "text": [
      "/home/rfu_smith_edu/.local/lib/python3.13/site-packages/sklearn/base.py:440: InconsistentVersionWarning: Trying to unpickle estimator LogisticRegression from version 1.2.1 when using version 1.7.0. This might lead to breaking code or invalid results. Use at your own risk. For more info please refer to:\n",
      "https://scikit-learn.org/stable/model_persistence.html#security-maintainability-limitations\n",
      "  warnings.warn(\n"
     ]
    },
    {
     "name": "stdout",
     "output_type": "stream",
     "text": [
      "loading data\n",
      "took 1.14 s to load data\n",
      "predicting labels\n",
      "took 4.54 s to predict\n",
      "retrieving predictive words\n",
      "took 0.14 s to retrieve predictive words\n",
      "saving output\n",
      "took 0.10 min to load, predict, retrieve predictive words and save MONDO_0002715 for 4066 instances\n"
     ]
    },
    {
     "name": "stderr",
     "output_type": "stream",
     "text": [
      "/home/rfu_smith_edu/.local/lib/python3.13/site-packages/sklearn/base.py:440: InconsistentVersionWarning: Trying to unpickle estimator LogisticRegression from version 1.2.1 when using version 1.7.0. This might lead to breaking code or invalid results. Use at your own risk. For more info please refer to:\n",
      "https://scikit-learn.org/stable/model_persistence.html#security-maintainability-limitations\n",
      "  warnings.warn(\n"
     ]
    },
    {
     "name": "stdout",
     "output_type": "stream",
     "text": [
      "loading data\n",
      "took 1.03 s to load data\n",
      "predicting labels\n",
      "took 4.37 s to predict\n",
      "retrieving predictive words\n",
      "took 0.13 s to retrieve predictive words\n",
      "saving output\n",
      "took 0.09 min to load, predict, retrieve predictive words and save MONDO_0002813 for 4066 instances\n"
     ]
    },
    {
     "name": "stderr",
     "output_type": "stream",
     "text": [
      "/home/rfu_smith_edu/.local/lib/python3.13/site-packages/sklearn/base.py:440: InconsistentVersionWarning: Trying to unpickle estimator LogisticRegression from version 1.2.1 when using version 1.7.0. This might lead to breaking code or invalid results. Use at your own risk. For more info please refer to:\n",
      "https://scikit-learn.org/stable/model_persistence.html#security-maintainability-limitations\n",
      "  warnings.warn(\n"
     ]
    },
    {
     "name": "stdout",
     "output_type": "stream",
     "text": [
      "loading data\n",
      "took 1.12 s to load data\n",
      "predicting labels\n",
      "took 4.37 s to predict\n",
      "retrieving predictive words\n",
      "took 0.13 s to retrieve predictive words\n",
      "saving output\n",
      "took 0.09 min to load, predict, retrieve predictive words and save MONDO_0002817 for 4066 instances\n"
     ]
    },
    {
     "name": "stderr",
     "output_type": "stream",
     "text": [
      "/home/rfu_smith_edu/.local/lib/python3.13/site-packages/sklearn/base.py:440: InconsistentVersionWarning: Trying to unpickle estimator LogisticRegression from version 1.2.1 when using version 1.7.0. This might lead to breaking code or invalid results. Use at your own risk. For more info please refer to:\n",
      "https://scikit-learn.org/stable/model_persistence.html#security-maintainability-limitations\n",
      "  warnings.warn(\n"
     ]
    },
    {
     "name": "stdout",
     "output_type": "stream",
     "text": [
      "loading data\n",
      "took 0.88 s to load data\n",
      "predicting labels\n",
      "took 4.25 s to predict\n",
      "retrieving predictive words\n",
      "took 0.14 s to retrieve predictive words\n",
      "saving output\n",
      "took 0.09 min to load, predict, retrieve predictive words and save MONDO_0002898 for 4066 instances\n"
     ]
    },
    {
     "name": "stderr",
     "output_type": "stream",
     "text": [
      "/home/rfu_smith_edu/.local/lib/python3.13/site-packages/sklearn/base.py:440: InconsistentVersionWarning: Trying to unpickle estimator LogisticRegression from version 1.2.1 when using version 1.7.0. This might lead to breaking code or invalid results. Use at your own risk. For more info please refer to:\n",
      "https://scikit-learn.org/stable/model_persistence.html#security-maintainability-limitations\n",
      "  warnings.warn(\n"
     ]
    },
    {
     "name": "stdout",
     "output_type": "stream",
     "text": [
      "loading data\n",
      "took 1.04 s to load data\n",
      "predicting labels\n",
      "took 4.26 s to predict\n",
      "retrieving predictive words\n",
      "took 0.14 s to retrieve predictive words\n",
      "saving output\n",
      "took 0.09 min to load, predict, retrieve predictive words and save MONDO_0002924 for 4066 instances\n"
     ]
    },
    {
     "name": "stderr",
     "output_type": "stream",
     "text": [
      "/home/rfu_smith_edu/.local/lib/python3.13/site-packages/sklearn/base.py:440: InconsistentVersionWarning: Trying to unpickle estimator LogisticRegression from version 1.2.1 when using version 1.7.0. This might lead to breaking code or invalid results. Use at your own risk. For more info please refer to:\n",
      "https://scikit-learn.org/stable/model_persistence.html#security-maintainability-limitations\n",
      "  warnings.warn(\n"
     ]
    },
    {
     "name": "stdout",
     "output_type": "stream",
     "text": [
      "loading data\n",
      "took 0.68 s to load data\n",
      "predicting labels\n",
      "took 4.41 s to predict\n",
      "retrieving predictive words\n",
      "took 0.13 s to retrieve predictive words\n",
      "saving output\n",
      "took 0.09 min to load, predict, retrieve predictive words and save MONDO_0002974 for 4066 instances\n"
     ]
    },
    {
     "name": "stderr",
     "output_type": "stream",
     "text": [
      "/home/rfu_smith_edu/.local/lib/python3.13/site-packages/sklearn/base.py:440: InconsistentVersionWarning: Trying to unpickle estimator LogisticRegression from version 1.2.1 when using version 1.7.0. This might lead to breaking code or invalid results. Use at your own risk. For more info please refer to:\n",
      "https://scikit-learn.org/stable/model_persistence.html#security-maintainability-limitations\n",
      "  warnings.warn(\n"
     ]
    },
    {
     "name": "stdout",
     "output_type": "stream",
     "text": [
      "loading data\n",
      "took 0.79 s to load data\n",
      "predicting labels\n",
      "took 4.23 s to predict\n",
      "retrieving predictive words\n",
      "took 0.13 s to retrieve predictive words\n",
      "saving output\n",
      "took 0.09 min to load, predict, retrieve predictive words and save MONDO_0003059 for 4066 instances\n"
     ]
    },
    {
     "name": "stderr",
     "output_type": "stream",
     "text": [
      "/home/rfu_smith_edu/.local/lib/python3.13/site-packages/sklearn/base.py:440: InconsistentVersionWarning: Trying to unpickle estimator LogisticRegression from version 1.2.1 when using version 1.7.0. This might lead to breaking code or invalid results. Use at your own risk. For more info please refer to:\n",
      "https://scikit-learn.org/stable/model_persistence.html#security-maintainability-limitations\n",
      "  warnings.warn(\n"
     ]
    },
    {
     "name": "stdout",
     "output_type": "stream",
     "text": [
      "loading data\n",
      "took 1.23 s to load data\n",
      "predicting labels\n",
      "took 4.28 s to predict\n",
      "retrieving predictive words\n",
      "took 0.13 s to retrieve predictive words\n",
      "saving output\n",
      "took 0.09 min to load, predict, retrieve predictive words and save MONDO_0003060 for 4066 instances\n"
     ]
    },
    {
     "name": "stderr",
     "output_type": "stream",
     "text": [
      "/home/rfu_smith_edu/.local/lib/python3.13/site-packages/sklearn/base.py:440: InconsistentVersionWarning: Trying to unpickle estimator LogisticRegression from version 1.2.1 when using version 1.7.0. This might lead to breaking code or invalid results. Use at your own risk. For more info please refer to:\n",
      "https://scikit-learn.org/stable/model_persistence.html#security-maintainability-limitations\n",
      "  warnings.warn(\n"
     ]
    },
    {
     "name": "stdout",
     "output_type": "stream",
     "text": [
      "loading data\n",
      "took 1.25 s to load data\n",
      "predicting labels\n",
      "took 4.34 s to predict\n",
      "retrieving predictive words\n",
      "took 0.13 s to retrieve predictive words\n",
      "saving output\n",
      "took 0.10 min to load, predict, retrieve predictive words and save MONDO_0003072 for 4066 instances\n"
     ]
    },
    {
     "name": "stderr",
     "output_type": "stream",
     "text": [
      "/home/rfu_smith_edu/.local/lib/python3.13/site-packages/sklearn/base.py:440: InconsistentVersionWarning: Trying to unpickle estimator LogisticRegression from version 1.2.1 when using version 1.7.0. This might lead to breaking code or invalid results. Use at your own risk. For more info please refer to:\n",
      "https://scikit-learn.org/stable/model_persistence.html#security-maintainability-limitations\n",
      "  warnings.warn(\n"
     ]
    },
    {
     "name": "stdout",
     "output_type": "stream",
     "text": [
      "loading data\n",
      "took 1.10 s to load data\n",
      "predicting labels\n",
      "took 4.23 s to predict\n",
      "retrieving predictive words\n",
      "took 0.13 s to retrieve predictive words\n",
      "saving output\n",
      "took 0.09 min to load, predict, retrieve predictive words and save MONDO_0003113 for 4066 instances\n"
     ]
    },
    {
     "name": "stderr",
     "output_type": "stream",
     "text": [
      "/home/rfu_smith_edu/.local/lib/python3.13/site-packages/sklearn/base.py:440: InconsistentVersionWarning: Trying to unpickle estimator LogisticRegression from version 1.2.1 when using version 1.7.0. This might lead to breaking code or invalid results. Use at your own risk. For more info please refer to:\n",
      "https://scikit-learn.org/stable/model_persistence.html#security-maintainability-limitations\n",
      "  warnings.warn(\n"
     ]
    },
    {
     "name": "stdout",
     "output_type": "stream",
     "text": [
      "loading data\n",
      "took 1.19 s to load data\n",
      "predicting labels\n",
      "took 4.35 s to predict\n",
      "retrieving predictive words\n",
      "took 0.21 s to retrieve predictive words\n",
      "saving output\n",
      "took 0.10 min to load, predict, retrieve predictive words and save MONDO_0003274 for 4066 instances\n"
     ]
    },
    {
     "name": "stderr",
     "output_type": "stream",
     "text": [
      "/home/rfu_smith_edu/.local/lib/python3.13/site-packages/sklearn/base.py:440: InconsistentVersionWarning: Trying to unpickle estimator LogisticRegression from version 1.2.1 when using version 1.7.0. This might lead to breaking code or invalid results. Use at your own risk. For more info please refer to:\n",
      "https://scikit-learn.org/stable/model_persistence.html#security-maintainability-limitations\n",
      "  warnings.warn(\n"
     ]
    },
    {
     "name": "stdout",
     "output_type": "stream",
     "text": [
      "loading data\n",
      "took 1.27 s to load data\n",
      "predicting labels\n",
      "took 4.47 s to predict\n",
      "retrieving predictive words\n",
      "took 0.13 s to retrieve predictive words\n",
      "saving output\n",
      "took 0.10 min to load, predict, retrieve predictive words and save MONDO_0003812 for 4066 instances\n"
     ]
    },
    {
     "name": "stderr",
     "output_type": "stream",
     "text": [
      "/home/rfu_smith_edu/.local/lib/python3.13/site-packages/sklearn/base.py:440: InconsistentVersionWarning: Trying to unpickle estimator LogisticRegression from version 1.2.1 when using version 1.7.0. This might lead to breaking code or invalid results. Use at your own risk. For more info please refer to:\n",
      "https://scikit-learn.org/stable/model_persistence.html#security-maintainability-limitations\n",
      "  warnings.warn(\n"
     ]
    },
    {
     "name": "stdout",
     "output_type": "stream",
     "text": [
      "loading data\n",
      "took 1.26 s to load data\n",
      "predicting labels\n",
      "took 4.45 s to predict\n",
      "retrieving predictive words\n",
      "took 0.13 s to retrieve predictive words\n",
      "saving output\n",
      "took 0.10 min to load, predict, retrieve predictive words and save MONDO_0004338 for 4066 instances\n"
     ]
    },
    {
     "name": "stderr",
     "output_type": "stream",
     "text": [
      "/home/rfu_smith_edu/.local/lib/python3.13/site-packages/sklearn/base.py:440: InconsistentVersionWarning: Trying to unpickle estimator LogisticRegression from version 1.2.1 when using version 1.7.0. This might lead to breaking code or invalid results. Use at your own risk. For more info please refer to:\n",
      "https://scikit-learn.org/stable/model_persistence.html#security-maintainability-limitations\n",
      "  warnings.warn(\n"
     ]
    },
    {
     "name": "stdout",
     "output_type": "stream",
     "text": [
      "loading data\n",
      "took 1.22 s to load data\n",
      "predicting labels\n",
      "took 4.27 s to predict\n",
      "retrieving predictive words\n",
      "took 0.13 s to retrieve predictive words\n",
      "saving output\n",
      "took 0.09 min to load, predict, retrieve predictive words and save MONDO_0004631 for 4066 instances\n"
     ]
    },
    {
     "name": "stderr",
     "output_type": "stream",
     "text": [
      "/home/rfu_smith_edu/.local/lib/python3.13/site-packages/sklearn/base.py:440: InconsistentVersionWarning: Trying to unpickle estimator LogisticRegression from version 1.2.1 when using version 1.7.0. This might lead to breaking code or invalid results. Use at your own risk. For more info please refer to:\n",
      "https://scikit-learn.org/stable/model_persistence.html#security-maintainability-limitations\n",
      "  warnings.warn(\n"
     ]
    },
    {
     "name": "stdout",
     "output_type": "stream",
     "text": [
      "loading data\n",
      "took 0.68 s to load data\n",
      "predicting labels\n",
      "took 4.35 s to predict\n",
      "retrieving predictive words\n",
      "took 0.33 s to retrieve predictive words\n",
      "saving output\n",
      "took 0.09 min to load, predict, retrieve predictive words and save MONDO_0004992 for 4066 instances\n"
     ]
    },
    {
     "name": "stderr",
     "output_type": "stream",
     "text": [
      "/home/rfu_smith_edu/.local/lib/python3.13/site-packages/sklearn/base.py:440: InconsistentVersionWarning: Trying to unpickle estimator LogisticRegression from version 1.2.1 when using version 1.7.0. This might lead to breaking code or invalid results. Use at your own risk. For more info please refer to:\n",
      "https://scikit-learn.org/stable/model_persistence.html#security-maintainability-limitations\n",
      "  warnings.warn(\n"
     ]
    },
    {
     "name": "stdout",
     "output_type": "stream",
     "text": [
      "loading data\n",
      "took 0.92 s to load data\n",
      "predicting labels\n",
      "took 4.38 s to predict\n",
      "retrieving predictive words\n",
      "took 0.13 s to retrieve predictive words\n",
      "saving output\n",
      "took 0.09 min to load, predict, retrieve predictive words and save MONDO_0005515 for 4066 instances\n"
     ]
    },
    {
     "name": "stderr",
     "output_type": "stream",
     "text": [
      "/home/rfu_smith_edu/.local/lib/python3.13/site-packages/sklearn/base.py:440: InconsistentVersionWarning: Trying to unpickle estimator LogisticRegression from version 1.2.1 when using version 1.7.0. This might lead to breaking code or invalid results. Use at your own risk. For more info please refer to:\n",
      "https://scikit-learn.org/stable/model_persistence.html#security-maintainability-limitations\n",
      "  warnings.warn(\n"
     ]
    },
    {
     "name": "stdout",
     "output_type": "stream",
     "text": [
      "loading data\n",
      "took 0.68 s to load data\n",
      "predicting labels\n",
      "took 4.24 s to predict\n",
      "retrieving predictive words\n",
      "took 0.13 s to retrieve predictive words\n",
      "saving output\n",
      "took 0.08 min to load, predict, retrieve predictive words and save MONDO_0005517 for 4066 instances\n"
     ]
    },
    {
     "name": "stderr",
     "output_type": "stream",
     "text": [
      "/home/rfu_smith_edu/.local/lib/python3.13/site-packages/sklearn/base.py:440: InconsistentVersionWarning: Trying to unpickle estimator LogisticRegression from version 1.2.1 when using version 1.7.0. This might lead to breaking code or invalid results. Use at your own risk. For more info please refer to:\n",
      "https://scikit-learn.org/stable/model_persistence.html#security-maintainability-limitations\n",
      "  warnings.warn(\n"
     ]
    },
    {
     "name": "stdout",
     "output_type": "stream",
     "text": [
      "loading data\n",
      "took 1.15 s to load data\n",
      "predicting labels\n",
      "took 4.72 s to predict\n",
      "retrieving predictive words\n",
      "took 0.20 s to retrieve predictive words\n",
      "saving output\n",
      "took 0.10 min to load, predict, retrieve predictive words and save MONDO_0005575 for 4066 instances\n"
     ]
    },
    {
     "name": "stderr",
     "output_type": "stream",
     "text": [
      "/home/rfu_smith_edu/.local/lib/python3.13/site-packages/sklearn/base.py:440: InconsistentVersionWarning: Trying to unpickle estimator LogisticRegression from version 1.2.1 when using version 1.7.0. This might lead to breaking code or invalid results. Use at your own risk. For more info please refer to:\n",
      "https://scikit-learn.org/stable/model_persistence.html#security-maintainability-limitations\n",
      "  warnings.warn(\n"
     ]
    },
    {
     "name": "stdout",
     "output_type": "stream",
     "text": [
      "loading data\n",
      "took 1.12 s to load data\n",
      "predicting labels\n",
      "took 4.33 s to predict\n",
      "retrieving predictive words\n",
      "took 0.33 s to retrieve predictive words\n",
      "saving output\n",
      "took 0.10 min to load, predict, retrieve predictive words and save MONDO_0005627 for 4066 instances\n"
     ]
    },
    {
     "name": "stderr",
     "output_type": "stream",
     "text": [
      "/home/rfu_smith_edu/.local/lib/python3.13/site-packages/sklearn/base.py:440: InconsistentVersionWarning: Trying to unpickle estimator LogisticRegression from version 1.2.1 when using version 1.7.0. This might lead to breaking code or invalid results. Use at your own risk. For more info please refer to:\n",
      "https://scikit-learn.org/stable/model_persistence.html#security-maintainability-limitations\n",
      "  warnings.warn(\n"
     ]
    },
    {
     "name": "stdout",
     "output_type": "stream",
     "text": [
      "loading data\n",
      "took 1.28 s to load data\n",
      "predicting labels\n",
      "took 4.47 s to predict\n",
      "retrieving predictive words\n",
      "took 0.21 s to retrieve predictive words\n",
      "saving output\n",
      "took 0.10 min to load, predict, retrieve predictive words and save MONDO_0005814 for 4066 instances\n"
     ]
    },
    {
     "name": "stderr",
     "output_type": "stream",
     "text": [
      "/home/rfu_smith_edu/.local/lib/python3.13/site-packages/sklearn/base.py:440: InconsistentVersionWarning: Trying to unpickle estimator LogisticRegression from version 1.2.1 when using version 1.7.0. This might lead to breaking code or invalid results. Use at your own risk. For more info please refer to:\n",
      "https://scikit-learn.org/stable/model_persistence.html#security-maintainability-limitations\n",
      "  warnings.warn(\n"
     ]
    },
    {
     "name": "stdout",
     "output_type": "stream",
     "text": [
      "loading data\n",
      "took 1.04 s to load data\n",
      "predicting labels\n",
      "took 4.37 s to predict\n",
      "retrieving predictive words\n",
      "took 0.16 s to retrieve predictive words\n",
      "saving output\n",
      "took 0.09 min to load, predict, retrieve predictive words and save MONDO_0005836 for 4066 instances\n"
     ]
    },
    {
     "name": "stderr",
     "output_type": "stream",
     "text": [
      "/home/rfu_smith_edu/.local/lib/python3.13/site-packages/sklearn/base.py:440: InconsistentVersionWarning: Trying to unpickle estimator LogisticRegression from version 1.2.1 when using version 1.7.0. This might lead to breaking code or invalid results. Use at your own risk. For more info please refer to:\n",
      "https://scikit-learn.org/stable/model_persistence.html#security-maintainability-limitations\n",
      "  warnings.warn(\n"
     ]
    },
    {
     "name": "stdout",
     "output_type": "stream",
     "text": [
      "loading data\n",
      "took 0.86 s to load data\n",
      "predicting labels\n",
      "took 4.26 s to predict\n",
      "retrieving predictive words\n",
      "took 0.13 s to retrieve predictive words\n",
      "saving output\n",
      "took 0.09 min to load, predict, retrieve predictive words and save MONDO_0005864 for 4066 instances\n"
     ]
    },
    {
     "name": "stderr",
     "output_type": "stream",
     "text": [
      "/home/rfu_smith_edu/.local/lib/python3.13/site-packages/sklearn/base.py:440: InconsistentVersionWarning: Trying to unpickle estimator LogisticRegression from version 1.2.1 when using version 1.7.0. This might lead to breaking code or invalid results. Use at your own risk. For more info please refer to:\n",
      "https://scikit-learn.org/stable/model_persistence.html#security-maintainability-limitations\n",
      "  warnings.warn(\n"
     ]
    },
    {
     "name": "stdout",
     "output_type": "stream",
     "text": [
      "loading data\n",
      "took 0.68 s to load data\n",
      "predicting labels\n",
      "took 4.31 s to predict\n",
      "retrieving predictive words\n",
      "took 0.23 s to retrieve predictive words\n",
      "saving output\n",
      "took 0.09 min to load, predict, retrieve predictive words and save MONDO_0005872 for 4066 instances\n"
     ]
    },
    {
     "name": "stderr",
     "output_type": "stream",
     "text": [
      "/home/rfu_smith_edu/.local/lib/python3.13/site-packages/sklearn/base.py:440: InconsistentVersionWarning: Trying to unpickle estimator LogisticRegression from version 1.2.1 when using version 1.7.0. This might lead to breaking code or invalid results. Use at your own risk. For more info please refer to:\n",
      "https://scikit-learn.org/stable/model_persistence.html#security-maintainability-limitations\n",
      "  warnings.warn(\n"
     ]
    },
    {
     "name": "stdout",
     "output_type": "stream",
     "text": [
      "loading data\n",
      "took 0.69 s to load data\n",
      "predicting labels\n",
      "took 4.27 s to predict\n",
      "retrieving predictive words\n",
      "took 0.13 s to retrieve predictive words\n",
      "saving output\n",
      "took 0.09 min to load, predict, retrieve predictive words and save MONDO_0005941 for 4066 instances\n"
     ]
    },
    {
     "name": "stderr",
     "output_type": "stream",
     "text": [
      "/home/rfu_smith_edu/.local/lib/python3.13/site-packages/sklearn/base.py:440: InconsistentVersionWarning: Trying to unpickle estimator LogisticRegression from version 1.2.1 when using version 1.7.0. This might lead to breaking code or invalid results. Use at your own risk. For more info please refer to:\n",
      "https://scikit-learn.org/stable/model_persistence.html#security-maintainability-limitations\n",
      "  warnings.warn(\n"
     ]
    },
    {
     "name": "stdout",
     "output_type": "stream",
     "text": [
      "loading data\n",
      "took 0.72 s to load data\n",
      "predicting labels\n",
      "took 4.25 s to predict\n",
      "retrieving predictive words\n",
      "took 0.13 s to retrieve predictive words\n",
      "saving output\n",
      "took 0.09 min to load, predict, retrieve predictive words and save MONDO_0005966 for 4066 instances\n"
     ]
    },
    {
     "name": "stderr",
     "output_type": "stream",
     "text": [
      "/home/rfu_smith_edu/.local/lib/python3.13/site-packages/sklearn/base.py:440: InconsistentVersionWarning: Trying to unpickle estimator LogisticRegression from version 1.2.1 when using version 1.7.0. This might lead to breaking code or invalid results. Use at your own risk. For more info please refer to:\n",
      "https://scikit-learn.org/stable/model_persistence.html#security-maintainability-limitations\n",
      "  warnings.warn(\n"
     ]
    },
    {
     "name": "stdout",
     "output_type": "stream",
     "text": [
      "loading data\n",
      "took 0.68 s to load data\n",
      "predicting labels\n",
      "took 4.30 s to predict\n",
      "retrieving predictive words\n",
      "took 0.13 s to retrieve predictive words\n",
      "saving output\n",
      "took 0.09 min to load, predict, retrieve predictive words and save MONDO_0006003 for 4066 instances\n"
     ]
    },
    {
     "name": "stderr",
     "output_type": "stream",
     "text": [
      "/home/rfu_smith_edu/.local/lib/python3.13/site-packages/sklearn/base.py:440: InconsistentVersionWarning: Trying to unpickle estimator LogisticRegression from version 1.2.1 when using version 1.7.0. This might lead to breaking code or invalid results. Use at your own risk. For more info please refer to:\n",
      "https://scikit-learn.org/stable/model_persistence.html#security-maintainability-limitations\n",
      "  warnings.warn(\n"
     ]
    },
    {
     "name": "stdout",
     "output_type": "stream",
     "text": [
      "loading data\n",
      "took 1.30 s to load data\n",
      "predicting labels\n",
      "took 4.39 s to predict\n",
      "retrieving predictive words\n",
      "took 0.13 s to retrieve predictive words\n",
      "saving output\n",
      "took 0.10 min to load, predict, retrieve predictive words and save MONDO_0006294 for 4066 instances\n"
     ]
    },
    {
     "name": "stderr",
     "output_type": "stream",
     "text": [
      "/home/rfu_smith_edu/.local/lib/python3.13/site-packages/sklearn/base.py:440: InconsistentVersionWarning: Trying to unpickle estimator LogisticRegression from version 1.2.1 when using version 1.7.0. This might lead to breaking code or invalid results. Use at your own risk. For more info please refer to:\n",
      "https://scikit-learn.org/stable/model_persistence.html#security-maintainability-limitations\n",
      "  warnings.warn(\n"
     ]
    },
    {
     "name": "stdout",
     "output_type": "stream",
     "text": [
      "loading data\n",
      "took 1.12 s to load data\n",
      "predicting labels\n",
      "took 4.27 s to predict\n",
      "retrieving predictive words\n",
      "took 0.14 s to retrieve predictive words\n",
      "saving output\n",
      "took 0.09 min to load, predict, retrieve predictive words and save MONDO_0006512 for 4066 instances\n"
     ]
    },
    {
     "name": "stderr",
     "output_type": "stream",
     "text": [
      "/home/rfu_smith_edu/.local/lib/python3.13/site-packages/sklearn/base.py:440: InconsistentVersionWarning: Trying to unpickle estimator LogisticRegression from version 1.2.1 when using version 1.7.0. This might lead to breaking code or invalid results. Use at your own risk. For more info please refer to:\n",
      "https://scikit-learn.org/stable/model_persistence.html#security-maintainability-limitations\n",
      "  warnings.warn(\n"
     ]
    },
    {
     "name": "stdout",
     "output_type": "stream",
     "text": [
      "loading data\n",
      "took 0.70 s to load data\n",
      "predicting labels\n",
      "took 4.19 s to predict\n",
      "retrieving predictive words\n",
      "took 0.14 s to retrieve predictive words\n",
      "saving output\n",
      "took 0.08 min to load, predict, retrieve predictive words and save MONDO_0006513 for 4066 instances\n"
     ]
    },
    {
     "name": "stderr",
     "output_type": "stream",
     "text": [
      "/home/rfu_smith_edu/.local/lib/python3.13/site-packages/sklearn/base.py:440: InconsistentVersionWarning: Trying to unpickle estimator LogisticRegression from version 1.2.1 when using version 1.7.0. This might lead to breaking code or invalid results. Use at your own risk. For more info please refer to:\n",
      "https://scikit-learn.org/stable/model_persistence.html#security-maintainability-limitations\n",
      "  warnings.warn(\n"
     ]
    },
    {
     "name": "stdout",
     "output_type": "stream",
     "text": [
      "loading data\n",
      "took 1.19 s to load data\n",
      "predicting labels\n",
      "took 4.32 s to predict\n",
      "retrieving predictive words\n",
      "took 0.13 s to retrieve predictive words\n",
      "saving output\n",
      "took 0.09 min to load, predict, retrieve predictive words and save MONDO_0006519 for 4066 instances\n"
     ]
    },
    {
     "name": "stderr",
     "output_type": "stream",
     "text": [
      "/home/rfu_smith_edu/.local/lib/python3.13/site-packages/sklearn/base.py:440: InconsistentVersionWarning: Trying to unpickle estimator LogisticRegression from version 1.2.1 when using version 1.7.0. This might lead to breaking code or invalid results. Use at your own risk. For more info please refer to:\n",
      "https://scikit-learn.org/stable/model_persistence.html#security-maintainability-limitations\n",
      "  warnings.warn(\n"
     ]
    },
    {
     "name": "stdout",
     "output_type": "stream",
     "text": [
      "loading data\n",
      "took 1.27 s to load data\n",
      "predicting labels\n",
      "took 4.42 s to predict\n",
      "retrieving predictive words\n",
      "took 0.16 s to retrieve predictive words\n",
      "saving output\n",
      "took 0.10 min to load, predict, retrieve predictive words and save MONDO_0007254 for 4066 instances\n"
     ]
    },
    {
     "name": "stderr",
     "output_type": "stream",
     "text": [
      "/home/rfu_smith_edu/.local/lib/python3.13/site-packages/sklearn/base.py:440: InconsistentVersionWarning: Trying to unpickle estimator LogisticRegression from version 1.2.1 when using version 1.7.0. This might lead to breaking code or invalid results. Use at your own risk. For more info please refer to:\n",
      "https://scikit-learn.org/stable/model_persistence.html#security-maintainability-limitations\n",
      "  warnings.warn(\n"
     ]
    },
    {
     "name": "stdout",
     "output_type": "stream",
     "text": [
      "loading data\n",
      "took 1.06 s to load data\n",
      "predicting labels\n",
      "took 4.24 s to predict\n",
      "retrieving predictive words\n",
      "took 0.14 s to retrieve predictive words\n",
      "saving output\n",
      "took 0.09 min to load, predict, retrieve predictive words and save MONDO_0007576 for 4066 instances\n"
     ]
    },
    {
     "name": "stderr",
     "output_type": "stream",
     "text": [
      "/home/rfu_smith_edu/.local/lib/python3.13/site-packages/sklearn/base.py:440: InconsistentVersionWarning: Trying to unpickle estimator LogisticRegression from version 1.2.1 when using version 1.7.0. This might lead to breaking code or invalid results. Use at your own risk. For more info please refer to:\n",
      "https://scikit-learn.org/stable/model_persistence.html#security-maintainability-limitations\n",
      "  warnings.warn(\n"
     ]
    },
    {
     "name": "stdout",
     "output_type": "stream",
     "text": [
      "loading data\n",
      "took 1.15 s to load data\n",
      "predicting labels\n",
      "took 4.47 s to predict\n",
      "retrieving predictive words\n",
      "took 0.15 s to retrieve predictive words\n",
      "saving output\n",
      "took 0.10 min to load, predict, retrieve predictive words and save MONDO_0008170 for 4066 instances\n"
     ]
    },
    {
     "name": "stderr",
     "output_type": "stream",
     "text": [
      "/home/rfu_smith_edu/.local/lib/python3.13/site-packages/sklearn/base.py:440: InconsistentVersionWarning: Trying to unpickle estimator LogisticRegression from version 1.2.1 when using version 1.7.0. This might lead to breaking code or invalid results. Use at your own risk. For more info please refer to:\n",
      "https://scikit-learn.org/stable/model_persistence.html#security-maintainability-limitations\n",
      "  warnings.warn(\n"
     ]
    },
    {
     "name": "stdout",
     "output_type": "stream",
     "text": [
      "loading data\n",
      "took 1.25 s to load data\n",
      "predicting labels\n",
      "took 4.40 s to predict\n",
      "retrieving predictive words\n",
      "took 0.16 s to retrieve predictive words\n",
      "saving output\n",
      "took 0.10 min to load, predict, retrieve predictive words and save MONDO_0008315 for 4066 instances\n"
     ]
    },
    {
     "name": "stderr",
     "output_type": "stream",
     "text": [
      "/home/rfu_smith_edu/.local/lib/python3.13/site-packages/sklearn/base.py:440: InconsistentVersionWarning: Trying to unpickle estimator LogisticRegression from version 1.2.1 when using version 1.7.0. This might lead to breaking code or invalid results. Use at your own risk. For more info please refer to:\n",
      "https://scikit-learn.org/stable/model_persistence.html#security-maintainability-limitations\n",
      "  warnings.warn(\n"
     ]
    },
    {
     "name": "stdout",
     "output_type": "stream",
     "text": [
      "loading data\n",
      "took 0.68 s to load data\n",
      "predicting labels\n",
      "took 4.56 s to predict\n",
      "retrieving predictive words\n",
      "took 0.17 s to retrieve predictive words\n",
      "saving output\n",
      "took 0.09 min to load, predict, retrieve predictive words and save MONDO_0008903 for 4066 instances\n"
     ]
    },
    {
     "name": "stderr",
     "output_type": "stream",
     "text": [
      "/home/rfu_smith_edu/.local/lib/python3.13/site-packages/sklearn/base.py:440: InconsistentVersionWarning: Trying to unpickle estimator LogisticRegression from version 1.2.1 when using version 1.7.0. This might lead to breaking code or invalid results. Use at your own risk. For more info please refer to:\n",
      "https://scikit-learn.org/stable/model_persistence.html#security-maintainability-limitations\n",
      "  warnings.warn(\n"
     ]
    },
    {
     "name": "stdout",
     "output_type": "stream",
     "text": [
      "loading data\n",
      "took 1.16 s to load data\n",
      "predicting labels\n",
      "took 4.35 s to predict\n",
      "retrieving predictive words\n",
      "took 0.13 s to retrieve predictive words\n",
      "saving output\n",
      "took 0.09 min to load, predict, retrieve predictive words and save MONDO_0011962 for 4066 instances\n"
     ]
    },
    {
     "name": "stderr",
     "output_type": "stream",
     "text": [
      "/home/rfu_smith_edu/.local/lib/python3.13/site-packages/sklearn/base.py:440: InconsistentVersionWarning: Trying to unpickle estimator LogisticRegression from version 1.2.1 when using version 1.7.0. This might lead to breaking code or invalid results. Use at your own risk. For more info please refer to:\n",
      "https://scikit-learn.org/stable/model_persistence.html#security-maintainability-limitations\n",
      "  warnings.warn(\n"
     ]
    },
    {
     "name": "stdout",
     "output_type": "stream",
     "text": [
      "loading data\n",
      "took 1.05 s to load data\n",
      "predicting labels\n",
      "took 4.16 s to predict\n",
      "retrieving predictive words\n",
      "took 0.15 s to retrieve predictive words\n",
      "saving output\n",
      "took 0.09 min to load, predict, retrieve predictive words and save MONDO_0016756 for 4066 instances\n"
     ]
    },
    {
     "name": "stderr",
     "output_type": "stream",
     "text": [
      "/home/rfu_smith_edu/.local/lib/python3.13/site-packages/sklearn/base.py:440: InconsistentVersionWarning: Trying to unpickle estimator LogisticRegression from version 1.2.1 when using version 1.7.0. This might lead to breaking code or invalid results. Use at your own risk. For more info please refer to:\n",
      "https://scikit-learn.org/stable/model_persistence.html#security-maintainability-limitations\n",
      "  warnings.warn(\n"
     ]
    },
    {
     "name": "stdout",
     "output_type": "stream",
     "text": [
      "loading data\n",
      "took 0.72 s to load data\n",
      "predicting labels\n",
      "took 4.42 s to predict\n",
      "retrieving predictive words\n",
      "took 0.13 s to retrieve predictive words\n",
      "saving output\n",
      "took 0.09 min to load, predict, retrieve predictive words and save MONDO_0020633 for 4066 instances\n"
     ]
    },
    {
     "name": "stderr",
     "output_type": "stream",
     "text": [
      "/home/rfu_smith_edu/.local/lib/python3.13/site-packages/sklearn/base.py:440: InconsistentVersionWarning: Trying to unpickle estimator LogisticRegression from version 1.2.1 when using version 1.7.0. This might lead to breaking code or invalid results. Use at your own risk. For more info please refer to:\n",
      "https://scikit-learn.org/stable/model_persistence.html#security-maintainability-limitations\n",
      "  warnings.warn(\n"
     ]
    },
    {
     "name": "stdout",
     "output_type": "stream",
     "text": [
      "loading data\n",
      "took 0.69 s to load data\n",
      "predicting labels\n",
      "took 4.29 s to predict\n",
      "retrieving predictive words\n",
      "took 0.13 s to retrieve predictive words\n",
      "saving output\n",
      "took 0.09 min to load, predict, retrieve predictive words and save MONDO_0021074 for 4066 instances\n"
     ]
    },
    {
     "name": "stderr",
     "output_type": "stream",
     "text": [
      "/home/rfu_smith_edu/.local/lib/python3.13/site-packages/sklearn/base.py:440: InconsistentVersionWarning: Trying to unpickle estimator LogisticRegression from version 1.2.1 when using version 1.7.0. This might lead to breaking code or invalid results. Use at your own risk. For more info please refer to:\n",
      "https://scikit-learn.org/stable/model_persistence.html#security-maintainability-limitations\n",
      "  warnings.warn(\n"
     ]
    },
    {
     "name": "stdout",
     "output_type": "stream",
     "text": [
      "loading data\n",
      "took 1.18 s to load data\n",
      "predicting labels\n",
      "took 4.34 s to predict\n",
      "retrieving predictive words\n",
      "took 0.13 s to retrieve predictive words\n",
      "saving output\n",
      "took 0.09 min to load, predict, retrieve predictive words and save MONDO_0021089 for 4066 instances\n"
     ]
    },
    {
     "name": "stderr",
     "output_type": "stream",
     "text": [
      "/home/rfu_smith_edu/.local/lib/python3.13/site-packages/sklearn/base.py:440: InconsistentVersionWarning: Trying to unpickle estimator LogisticRegression from version 1.2.1 when using version 1.7.0. This might lead to breaking code or invalid results. Use at your own risk. For more info please refer to:\n",
      "https://scikit-learn.org/stable/model_persistence.html#security-maintainability-limitations\n",
      "  warnings.warn(\n"
     ]
    },
    {
     "name": "stdout",
     "output_type": "stream",
     "text": [
      "loading data\n",
      "took 1.14 s to load data\n",
      "predicting labels\n",
      "took 4.42 s to predict\n",
      "retrieving predictive words\n",
      "took 0.25 s to retrieve predictive words\n",
      "saving output\n",
      "took 0.10 min to load, predict, retrieve predictive words and save MONDO_0021138 for 4066 instances\n"
     ]
    },
    {
     "name": "stderr",
     "output_type": "stream",
     "text": [
      "/home/rfu_smith_edu/.local/lib/python3.13/site-packages/sklearn/base.py:440: InconsistentVersionWarning: Trying to unpickle estimator LogisticRegression from version 1.2.1 when using version 1.7.0. This might lead to breaking code or invalid results. Use at your own risk. For more info please refer to:\n",
      "https://scikit-learn.org/stable/model_persistence.html#security-maintainability-limitations\n",
      "  warnings.warn(\n"
     ]
    },
    {
     "name": "stdout",
     "output_type": "stream",
     "text": [
      "loading data\n",
      "took 1.03 s to load data\n",
      "predicting labels\n",
      "took 4.35 s to predict\n",
      "retrieving predictive words\n",
      "took 0.36 s to retrieve predictive words\n",
      "saving output\n",
      "took 0.10 min to load, predict, retrieve predictive words and save MONDO_0045024 for 4066 instances\n"
     ]
    }
   ],
   "source": [
    "# Preprocess\n",
    "subprocess.run([\n",
    "    \"python\", \"../src/preprocess.py\",\n",
    "    \"-input\", \"../demo/metadata_mouse_title.tsv\",\n",
    "    \"-out\", \"../demo/metadata_mouse_title_processed.tsv\"\n",
    "])\n",
    "\n",
    "# Generate embeddings\n",
    "subprocess.run([\n",
    "    \"python\", \"../src/embedding_lookup_table.py\",\n",
    "    \"-input\", \"../demo/metadata_mouse_title_processed.tsv\",\n",
    "    \"-out\", \"../demo/metadata_mouse_title_embedding.npz\"\n",
    "])\n",
    "\n",
    "# Predict\n",
    "for cancer_id in cancers:\n",
    "    subprocess.run([\n",
    "        \"python\", \"../src/predict.py\",\n",
    "        \"-input\", \"../demo/metadata_mouse_title_processed.tsv\",\n",
    "        \"-id\", \"../demo/metadata_mouse_ID.tsv\",\n",
    "        \"-input_embed\", \"../demo/metadata_mouse_title_embedding.npz\",\n",
    "        \"-train_embed\", \"../data/disease_desc_embedding.npz\",\n",
    "        \"-model\", f\"../bins/{cancer_id}__model.pkl\",\n",
    "        \"-out\", \"../results/cancer_mouse/\"\n",
    "    ])"
   ]
  },
  {
   "cell_type": "code",
   "execution_count": null,
   "id": "69cf1d23-ff71-45bc-8cb8-e00b74893b76",
   "metadata": {},
   "outputs": [],
   "source": []
  }
 ],
 "metadata": {
  "kernelspec": {
   "display_name": "Python (txt2onto2)",
   "language": "python",
   "name": "txt2onto2"
  },
  "language_info": {
   "codemirror_mode": {
    "name": "ipython",
    "version": 3
   },
   "file_extension": ".py",
   "mimetype": "text/x-python",
   "name": "python",
   "nbconvert_exporter": "python",
   "pygments_lexer": "ipython3",
   "version": "3.11.3"
  }
 },
 "nbformat": 4,
 "nbformat_minor": 5
}
