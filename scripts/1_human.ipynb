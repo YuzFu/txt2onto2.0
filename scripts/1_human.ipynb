{
 "cells": [
  {
   "cell_type": "code",
   "execution_count": 1,
   "id": "1727fd29",
   "metadata": {},
   "outputs": [],
   "source": [
    "import pandas as pd\n",
    "import json\n",
    "import subprocess"
   ]
  },
  {
   "cell_type": "markdown",
   "id": "64fc738a",
   "metadata": {},
   "source": [
    "## Preparation"
   ]
  },
  {
   "cell_type": "code",
   "execution_count": 2,
   "id": "32259cfd",
   "metadata": {},
   "outputs": [],
   "source": [
    "# 1. filter GREIN_data for human GSE IDs\n",
    "grein_df = pd.read_csv(\"../demo/GREIN_data.csv\")\n",
    "human_df = grein_df[grein_df['Species'] == \"Homo sapiens\"]\n",
    "human_ids = human_df['GEO accession']\n",
    "human_ids.to_csv(\"../demo/metadata_human_ID.tsv\", sep=\"\\t\", index=False, header=False)\n",
    "\n",
    "# 2. Extract titles from metadata_human\n",
    "with open(\"../demo/metadata_human.json\") as f:\n",
    "    metadata = json.load(f)\n",
    "\n",
    "human_titles = [metadata[gse][\"Title\"] for gse in human_ids if gse in metadata]\n",
    "pd.DataFrame(human_titles).to_csv(\"../demo/metadata_human_title.tsv\", sep=\"\\t\", index=False, header=False)"
   ]
  },
  {
   "cell_type": "markdown",
   "id": "73a96713",
   "metadata": {},
   "source": [
    "## Prediction"
   ]
  },
  {
   "cell_type": "code",
   "execution_count": 3,
   "id": "4a0f65d6",
   "metadata": {},
   "outputs": [
    {
     "name": "stderr",
     "output_type": "stream",
     "text": [
      "preprocessing text: 100%|████████████████| 3395/3395 [00:00<00:00, 8026.22it/s]\n"
     ]
    },
    {
     "name": "stdout",
     "output_type": "stream",
     "text": [
      "get unique words\n",
      "there are 7032 unique words in the given descriptions\n",
      "generate embedding by cpu\n"
     ]
    },
    {
     "name": "stderr",
     "output_type": "stream",
     "text": [
      "generate embeddings using cpu: 100%|███████| 7032/7032 [02:41<00:00, 43.62it/s]\n"
     ]
    },
    {
     "name": "stdout",
     "output_type": "stream",
     "text": [
      "saving output...\n"
     ]
    },
    {
     "name": "stderr",
     "output_type": "stream",
     "text": [
      "/home/rfu_smith_edu/.local/lib/python3.13/site-packages/sklearn/base.py:440: InconsistentVersionWarning: Trying to unpickle estimator LogisticRegression from version 1.2.1 when using version 1.7.0. This might lead to breaking code or invalid results. Use at your own risk. For more info please refer to:\n",
      "https://scikit-learn.org/stable/model_persistence.html#security-maintainability-limitations\n",
      "  warnings.warn(\n"
     ]
    },
    {
     "name": "stdout",
     "output_type": "stream",
     "text": [
      "loading data\n",
      "took 1.20 s to load data\n",
      "predicting labels\n",
      "took 4.37 s to predict\n",
      "retrieving predictive words\n",
      "took 0.10 s to retrieve predictive words\n",
      "saving output\n",
      "took 0.09 min to load, predict, retrieve predictive words and save MONDO_0000315 for 3395 instances\n"
     ]
    },
    {
     "data": {
      "text/plain": [
       "CompletedProcess(args=['python', '../src/predict.py', '-input', '../demo/metadata_human_title_processed.tsv', '-id', '../demo/metadata_human_ID.tsv', '-input_embed', '../demo/metadata_human_title_embedding.npz', '-train_embed', '../data/disease_desc_embedding.npz', '-model', '../bins/MONDO_0000315__model.pkl', '-out', '../results/'], returncode=0)"
      ]
     },
     "execution_count": 3,
     "metadata": {},
     "output_type": "execute_result"
    }
   ],
   "source": [
    "# Preprocess\n",
    "subprocess.run([\n",
    "    \"python\", \"../src/preprocess.py\",\n",
    "    \"-input\", \"../demo/metadata_human_title.tsv\",\n",
    "    \"-out\", \"../demo/metadata_human_title_processed.tsv\"\n",
    "])\n",
    "\n",
    "# Generate embeddings\n",
    "subprocess.run([\n",
    "    \"python\", \"../src/embedding_lookup_table.py\",\n",
    "    \"-input\", \"../demo/metadata_human_title_processed.tsv\",\n",
    "    \"-out\", \"../demo/metadata_human_title_embedding.npz\"\n",
    "])\n",
    "\n",
    "# Predict for one human model (e.g. MONDO_0000315)\n",
    "subprocess.run([\n",
    "    \"python\", \"../src/predict.py\",\n",
    "    \"-input\", \"../demo/metadata_human_title_processed.tsv\",\n",
    "    \"-id\", \"../demo/metadata_human_ID.tsv\",\n",
    "    \"-input_embed\", \"../demo/metadata_human_title_embedding.npz\",\n",
    "    \"-train_embed\", \"../data/disease_desc_embedding.npz\",\n",
    "    \"-model\", \"../bins/MONDO_0000315__model.pkl\",\n",
    "    \"-out\", \"../results/\"\n",
    "])"
   ]
  }
 ],
 "metadata": {
  "kernelspec": {
   "display_name": "Python 3 (ipykernel)",
   "language": "python",
   "name": "python3"
  },
  "language_info": {
   "codemirror_mode": {
    "name": "ipython",
    "version": 3
   },
   "file_extension": ".py",
   "mimetype": "text/x-python",
   "name": "python",
   "nbconvert_exporter": "python",
   "pygments_lexer": "ipython3",
   "version": "3.13.3"
  }
 },
 "nbformat": 4,
 "nbformat_minor": 5
}
