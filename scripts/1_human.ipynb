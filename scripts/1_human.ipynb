{
 "cells": [
  {
   "cell_type": "code",
   "execution_count": null,
   "id": "1727fd29",
   "metadata": {},
   "outputs": [],
   "source": [
    "import pandas as pd\n",
    "import json\n",
    "import subprocess"
   ]
  },
  {
   "cell_type": "markdown",
   "id": "64fc738a",
   "metadata": {},
   "source": [
    "## Preparation"
   ]
  },
  {
   "cell_type": "code",
   "execution_count": null,
   "id": "32259cfd",
   "metadata": {},
   "outputs": [],
   "source": [
    "# 1. filter GREIN_data for human GSE IDs\n",
    "grein_df = pd.read_csv(\"../demo/GREIN_data.csv\")\n",
    "human_df = grein_df[grein_df['Species'] == \"Homo sapiens\"]\n",
    "human_ids = human_df['GEO accession']\n",
    "human_ids.to_csv(\"../demo/metadata_human_ID.tsv\", sep=\"\\t\", index=False, header=False)\n",
    "\n",
    "# 2. Extract titles from metadata_human\n",
    "with open(\"../demo/metadata_human.json\") as f:\n",
    "    metadata = json.load(f)\n",
    "\n",
    "human_titles = [metadata[gse][\"Title\"] for gse in human_ids if gse in metadata]\n",
    "pd.DataFrame(human_titles).to_csv(\"../demo/metadata_human_title.tsv\", sep=\"\\t\", index=False, header=False)"
   ]
  },
  {
   "cell_type": "markdown",
   "id": "73a96713",
   "metadata": {},
   "source": [
    "## Prediction"
   ]
  },
  {
   "cell_type": "code",
   "execution_count": null,
   "id": "4a0f65d6",
   "metadata": {},
   "outputs": [],
   "source": [
    "# Preprocess\n",
    "subprocess.run([\n",
    "    \"python\", \"../src/preprocess.py\",\n",
    "    \"-input\", \"../demo/metadata_human_title.tsv\",\n",
    "    \"-out\", \"../demo/metadata_human_title_processed.tsv\"\n",
    "])\n",
    "\n",
    "# Generate embeddings\n",
    "subprocess.run([\n",
    "    \"python\", \"../src/embedding_lookup_table.py\",\n",
    "    \"-input\", \"../demo/metadata_human_title_processed.tsv\",\n",
    "    \"-out\", \"../demo/metadata_human_title_embedding.npz\"\n",
    "])\n",
    "\n",
    "# Predict for one human model (e.g. MONDO_0000315)\n",
    "subprocess.run([\n",
    "    \"python\", \"../src/predict.py\",\n",
    "    \"-input\", \"../demo/metadata_human_title_processed.tsv\",\n",
    "    \"-id\", \"../demo/metadata_human_ID.tsv\",\n",
    "    \"-input_embed\", \"../demo/metadata_human_title_embedding.npz\",\n",
    "    \"-train_embed\", \"../data/disease_desc_embedding.npz\",\n",
    "    \"-model\", \"../bins/MONDO_0000315__model.pkl\",\n",
    "    \"-out\", \"../results/\"\n",
    "])"
   ]
  }
 ],
 "metadata": {
  "kernelspec": {
   "display_name": "txt2onto2",
   "language": "python",
   "name": "python3"
  },
  "language_info": {
   "codemirror_mode": {
    "name": "ipython",
    "version": 3
   },
   "file_extension": ".py",
   "mimetype": "text/x-python",
   "name": "python",
   "nbconvert_exporter": "python",
   "pygments_lexer": "ipython3",
   "version": "3.11.3"
  }
 },
 "nbformat": 4,
 "nbformat_minor": 5
}
